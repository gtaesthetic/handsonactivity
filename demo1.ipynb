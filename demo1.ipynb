{
 "cells": [
  {
   "cell_type": "code",
   "execution_count": 1,
   "metadata": {},
   "outputs": [
    {
     "name": "stdout",
     "output_type": "stream",
     "text": [
      "Hello World!\n"
     ]
    }
   ],
   "source": [
    "print(\"Hello World!\")"
   ]
  },
  {
   "cell_type": "code",
   "execution_count": 1,
   "metadata": {},
   "outputs": [
    {
     "name": "stdout",
     "output_type": "stream",
     "text": [
      "Title: Game of Thrones\n",
      "Author: George R. R. Martin\n",
      "Genre: Fantasy\n",
      "\n",
      "Title: The Hunger Games\n",
      "Author: Suzane Collins\n",
      "Genre: Fiction\n",
      "File Size: 1000MB\n",
      "\n",
      "Title: Harry Potter: Deathly Hallows \n",
      "Author: JK Rowling\n",
      "Genre: Fantasy\n",
      "Narrator: Stephen Fry\n",
      "Duration: 1000 hours\n",
      "\n"
     ]
    }
   ],
   "source": [
    "class Book:\n",
    "    def __init__(self, title, author, genre):\n",
    "        self.title = title\n",
    "        self.author = author\n",
    "        self.genre = genre\n",
    "\n",
    "    def display_details(self):\n",
    "        print(f\"Title: {self.title}\\nAuthor: {self.author}\\nGenre: {self.genre}\\n\")\n",
    "\n",
    "\n",
    "class EBook(Book):\n",
    "    def __init__(self, title, author, genre, file_size):\n",
    "        super().__init__(title, author, genre)\n",
    "        self.file_size = file_size  \n",
    "\n",
    "  \n",
    "    def display_details(self):\n",
    "        print(f\"Title: {self.title}\\nAuthor: {self.author}\\nGenre: {self.genre}\\nFile Size: {self.file_size}MB\\n\")\n",
    "\n",
    "class AudioBook(Book):\n",
    "    def __init__(self, title, author, genre, narrator, duration):\n",
    "        super().__init__(title, author, genre)\n",
    "        self.narrator = narrator  \n",
    "        self.duration = duration  \n",
    "\n",
    "    def display_details(self):\n",
    "        print(f\"Title: {self.title}\\nAuthor: {self.author}\\nGenre: {self.genre}\\nNarrator: {self.narrator}\\nDuration: {self.duration} hours\\n\")\n",
    "\n",
    "book = Book(\"Game of Thrones\", \"George R. R. Martin\", \"Fantasy\")\n",
    "ebook = EBook(\"The Hunger Games\", \"Suzane Collins\", \"Fiction\", 1000)\n",
    "audiobook = AudioBook(\"Harry Potter: Deathly Hallows \", \"JK Rowling\", \"Fantasy\", \"Stephen Fry\", 1000)\n",
    "\n",
    "book.display_details()\n",
    "ebook.display_details()\n",
    "audiobook.display_details()"
   ]
  },
  {
   "cell_type": "code",
   "execution_count": null,
   "metadata": {},
   "outputs": [],
   "source": [
    "# Navigate to the repository directory\n",
    "cd /path/to/your/local/repo\n",
    "\n",
    "# Add the updated file to the staging area\n",
    "git add c:/Users/Marie/demo1.ipynb\n",
    "\n",
    "# Commit the changes with a message\n",
    "git commit -m \"Update demo1.ipynb with git commands and book details\"\n",
    "\n",
    "# Push the changes to the remote repository\n",
    "git push origin main\n"
   ]
  }
 ],
 "metadata": {
  "kernelspec": {
   "display_name": "Python 3",
   "language": "python",
   "name": "python3"
  },
  "language_info": {
   "codemirror_mode": {
    "name": "ipython",
    "version": 3
   },
   "file_extension": ".py",
   "mimetype": "text/x-python",
   "name": "python",
   "nbconvert_exporter": "python",
   "pygments_lexer": "ipython3",
   "version": "3.13.2"
  }
 },
 "nbformat": 4,
 "nbformat_minor": 2
}
