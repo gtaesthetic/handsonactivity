{
 "cells": [
  {
   "cell_type": "code",
   "execution_count": 12,
   "metadata": {},
   "outputs": [
    {
     "name": "stdout",
     "output_type": "stream",
     "text": [
      "Hello World!\n"
     ]
    }
   ],
   "source": [
    "print(\"Hello World!\")"
   ]
  },
  {
   "cell_type": "markdown",
   "metadata": {},
   "source": [
    "# Activity:\n",
    "- Bullet\n",
    "**Bold**\n",
    "*Italic*\n",
    "[HyperLink](https://www.google.com)"
   ]
  },
  {
   "cell_type": "code",
   "execution_count": 13,
   "metadata": {},
   "outputs": [
    {
     "name": "stdout",
     "output_type": "stream",
     "text": [
      "Title: One Piece\n",
      "Author: Eichiro Oda\n",
      "Genre: Adventure\n",
      "\n",
      "Title: The Hunger Games\n",
      "Author: Suzane Collins\n",
      "Genre: Fiction\n",
      "File Size: 1000MB\n",
      "\n",
      "Title: Harry Potter and the Philosopher's Stone\n",
      "Author: JK Rowling\n",
      "Genre: Fantasy\n",
      "Narrator: Jim Dale\n",
      "Duration: 1000 hours\n",
      "\n"
     ]
    }
   ],
   "source": [
    "\n",
    "class Book:\n",
    "    def __init__(self, title, author, genre):\n",
    "        self.title = title\n",
    "        self.author = author\n",
    "        self.genre = genre\n",
    "\n",
    "    def display_details(self):\n",
    "        print(f\"Title: {self.title}\\nAuthor: {self.author}\\nGenre: {self.genre}\\n\")\n",
    "\n",
    "\n",
    "class EBook(Book):\n",
    "    def __init__(self, title, author, genre, file_size):\n",
    "        super().__init__(title, author, genre)\n",
    "        self.file_size = file_size  \n",
    "\n",
    "  \n",
    "    def display_details(self):\n",
    "        print(f\"Title: {self.title}\\nAuthor: {self.author}\\nGenre: {self.genre}\\nFile Size: {self.file_size}MB\\n\")\n",
    "\n",
    "class AudioBook(Book):\n",
    "    def __init__(self, title, author, genre, narrator, duration):\n",
    "        super().__init__(title, author, genre)\n",
    "        self.narrator = narrator  \n",
    "        self.duration = duration  \n",
    "\n",
    "    def display_details(self):\n",
    "        print(f\"Title: {self.title}\\nAuthor: {self.author}\\nGenre: {self.genre}\\nNarrator: {self.narrator}\\nDuration: {self.duration} hours\\n\")\n",
    "\n",
    "book = Book(\"One Piece\", \"Eichiro Oda\", \"Adventure\")\n",
    "ebook = EBook(\"The Hunger Games\", \"Suzane Collins\", \"Fiction\", 1000)\n",
    "audiobook = AudioBook(\"Harry Potter and the Philosopher's Stone\", \"JK Rowling\", \"Fantasy\", \"Jim Dale\", 1000)\n",
    "\n",
    "book.display_details()\n",
    "ebook.display_details()\n",
    "audiobook.display_details()\n"
   ]
  }
 ],
 "metadata": {
  "kernelspec": {
   "display_name": "butterfly",
   "language": "python",
   "name": "python3"
  },
  "language_info": {
   "codemirror_mode": {
    "name": "ipython",
    "version": 3
   },
   "file_extension": ".py",
   "mimetype": "text/x-python",
   "name": "python",
   "nbconvert_exporter": "python",
   "pygments_lexer": "ipython3",
   "version": "3.12.8"
  }
 },
 "nbformat": 4,
 "nbformat_minor": 2
}
