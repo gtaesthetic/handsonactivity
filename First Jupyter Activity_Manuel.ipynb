{
 "cells": [
  {
   "cell_type": "markdown",
   "metadata": {},
   "source": [
    "# First Jupyter Activity"
   ]
  },
  {
   "cell_type": "code",
   "execution_count": 6,
   "metadata": {},
   "outputs": [
    {
     "name": "stdout",
     "output_type": "stream",
     "text": [
      "Title: The Godfather\n",
      "Author: Mario Puzo\n",
      "Genre: Crime Novel\n",
      "\n",
      "Title: Sa Mga Kuko ng Liwanag\n",
      "Author: Edgardo Reyes\n",
      "Genre: Social Commentary\n",
      "\n",
      "File Format: EPUB\n",
      "File Size: 112.3 MB\n",
      "\n",
      "Title: The Art of War\n",
      "Author: Sun Tzu\n",
      "Genre: Strategy\n",
      "\n",
      "Narrator: Chris Lines\n",
      "Duration: 1.5 hours\n",
      "\n"
     ]
    }
   ],
   "source": [
    "class Book:\n",
    "    def __init__(self, title, author, genre):\n",
    "        self.title = title\n",
    "        self.author = author\n",
    "        self.genre = genre\n",
    "\n",
    "    def display_details(self):\n",
    "        print(f\"Title: {self.title}\\nAuthor: {self.author}\\nGenre: {self.genre}\\n\")\n",
    "\n",
    "class EBook(Book):\n",
    "    def __init__(self, title, author, genre, file_format, file_size):\n",
    "        super().__init__(title, author, genre)  \n",
    "        self.file_format = file_format  \n",
    "        self.file_size = file_size\n",
    "\n",
    "    def display_details(self):\n",
    "        super().display_details()\n",
    "        print(f\"File Format: {self.file_format}\\nFile Size: {self.file_size} MB\\n\")  \n",
    "\n",
    "class AudioBook(Book):\n",
    "    def __init__(self, title, author, genre, narrator, duration):\n",
    "        super().__init__(title, author, genre)\n",
    "        self.narrator = narrator\n",
    "        self.duration = duration\n",
    "\n",
    "    def display_details(self):\n",
    "        super().display_details()\n",
    "        print(f\"Narrator: {self.narrator}\\nDuration: {self.duration} hours\\n\")\n",
    "\n",
    "# Instances\n",
    "book = Book(\"The Godfather\", \"Mario Puzo\", \"Crime Novel\")\n",
    "ebook = EBook(\"Sa Mga Kuko ng Liwanag\", \"Edgardo Reyes\", \"Social Commentary\", \"EPUB\", 112.3)\n",
    "audiobook = AudioBook(\"The Art of War\", \"Sun Tzu\", \"Strategy\", \"Chris Lines\", 1.5)\n",
    "\n",
    "# Call function\n",
    "book.display_details()\n",
    "ebook.display_details()\n",
    "audiobook.display_details()\n"
   ]
  }
 ],
 "metadata": {
  "kernelspec": {
   "display_name": "Manuel",
   "language": "python",
   "name": "python3"
  },
  "language_info": {
   "codemirror_mode": {
    "name": "ipython",
    "version": 3
   },
   "file_extension": ".py",
   "mimetype": "text/x-python",
   "name": "python",
   "nbconvert_exporter": "python",
   "pygments_lexer": "ipython3",
   "version": "3.12.7"
  }
 },
 "nbformat": 4,
 "nbformat_minor": 2
}
